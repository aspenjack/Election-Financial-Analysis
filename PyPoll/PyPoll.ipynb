{
 "cells": [
  {
   "cell_type": "code",
   "execution_count": 160,
   "id": "1781f6f3",
   "metadata": {},
   "outputs": [],
   "source": [
    "import os\n",
    "import pandas as pd\n",
    "\n",
    "csvpath = \"./election_data.csv\"\n",
    "\n",
    "output_file = os.path.join(\".\", \"election_analysis.txt\")\n"
   ]
  },
  {
   "cell_type": "code",
   "execution_count": 161,
   "id": "b1e2b40f",
   "metadata": {},
   "outputs": [],
   "source": [
    "election_df = pd.read_csv(csvpath)"
   ]
  },
  {
   "cell_type": "code",
   "execution_count": 162,
   "id": "06295d60",
   "metadata": {},
   "outputs": [],
   "source": [
    "total_votes = len(election_df)\n",
    "total_votes\n",
    "\n",
    "candidates = election_df[\"Candidate\"].unique()\n",
    "\n",
    "candidate_count = election_df[\"Candidate\"].value_counts()\n",
    "\n"
   ]
  },
  {
   "cell_type": "code",
   "execution_count": 163,
   "id": "bf768395",
   "metadata": {},
   "outputs": [],
   "source": [
    "percentages = election_df[\"Candidate\"].value_counts(normalize=True).mul(100).round(1).astype(str) + '%'"
   ]
  },
  {
   "cell_type": "code",
   "execution_count": 164,
   "id": "54d8de4c",
   "metadata": {},
   "outputs": [],
   "source": [
    "election_results = pd.concat([candidate_count, percentages], axis =1, keys = [\"Count\", \"Percentage\"])"
   ]
  },
  {
   "cell_type": "code",
   "execution_count": 165,
   "id": "801e73ea",
   "metadata": {},
   "outputs": [],
   "source": [
    "winner = election_df[\"Candidate\"].mode()[0]"
   ]
  },
  {
   "cell_type": "code",
   "execution_count": 166,
   "id": "7c3de924",
   "metadata": {},
   "outputs": [
    {
     "name": "stdout",
     "output_type": "stream",
     "text": [
      "\n",
      "Election Results\n",
      "\n",
      "------------------------------------------\n",
      "\n",
      "Total Votes: 369711\n",
      "\n",
      "------------------------------------------\n",
      "                          Count Percentage\n",
      "Diana DeGette            272892      73.8%\n",
      "Charles Casper Stockham   85213      23.0%\n",
      "Raymon Anthony Doane      11606       3.1%\n",
      "------------------------------------------\n",
      "\n",
      "Winner: Diana DeGette\n"
     ]
    }
   ],
   "source": [
    "with open(output_file, \"w\") as txt_file:\n",
    "    output =  (\"\\nElection Results\\n\\n\"\n",
    "          \"------------------------------------------\\n\\n\"\n",
    "          f\"Total Votes: {total_votes}\\n\\n\"\n",
    "          \"------------------------------------------\\n\"\n",
    "          f\"{election_results}\\n\"\n",
    "          \"------------------------------------------\\n\\n\"\n",
    "          f\"Winner: {winner}\")\n",
    "    print(output)\n",
    "    \n",
    "    txt_file.write(output)\n"
   ]
  },
  {
   "cell_type": "code",
   "execution_count": 167,
   "id": "f57776c0",
   "metadata": {},
   "outputs": [],
   "source": []
  },
  {
   "cell_type": "code",
   "execution_count": null,
   "id": "d9d243b3",
   "metadata": {},
   "outputs": [],
   "source": []
  },
  {
   "cell_type": "code",
   "execution_count": null,
   "id": "8fda38f6",
   "metadata": {},
   "outputs": [],
   "source": []
  }
 ],
 "metadata": {
  "kernelspec": {
   "display_name": "Python 3 (ipykernel)",
   "language": "python",
   "name": "python3"
  },
  "language_info": {
   "codemirror_mode": {
    "name": "ipython",
    "version": 3
   },
   "file_extension": ".py",
   "mimetype": "text/x-python",
   "name": "python",
   "nbconvert_exporter": "python",
   "pygments_lexer": "ipython3",
   "version": "3.11.4"
  }
 },
 "nbformat": 4,
 "nbformat_minor": 5
}
