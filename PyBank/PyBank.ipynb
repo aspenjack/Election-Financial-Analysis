{
 "cells": [
  {
   "cell_type": "code",
   "execution_count": 32,
   "id": "5e441db1",
   "metadata": {},
   "outputs": [],
   "source": [
    "import os\n",
    "import csv\n",
    "\n",
    "bank_path = os.path.join(\".\", \"budget_data.csv\")\n",
    "\n",
    "output_file = os.path.join(\".\", \"budget_analysis.txt\")"
   ]
  },
  {
   "cell_type": "code",
   "execution_count": 29,
   "id": "242c1827",
   "metadata": {},
   "outputs": [],
   "source": [
    "\n",
    "\n",
    "with open(bank_path) as bank_file:\n",
    "\n",
    "    bank_reader = csv.reader(bank_file, delimiter=\",\")\n",
    "    \n",
    "    \n",
    "    bank_header = next(bank_reader)\n",
    "    \n",
    "    \n",
    "    month_sum = 0\n",
    "    \n",
    "    for data in bank_reader:\n",
    "        month_sum = month_sum + 1\n",
    "   \n",
    "   "
   ]
  },
  {
   "cell_type": "code",
   "execution_count": 33,
   "id": "ac39ec6e",
   "metadata": {},
   "outputs": [
    {
     "name": "stdout",
     "output_type": "stream",
     "text": [
      "Financial Analysis:\n",
      "\n",
      "--------------------------------------------------\n",
      "\n",
      "Total months: 86\n",
      "\n",
      "Net Profits/Losses: $22564198\n",
      "\n",
      "Changes in Profits/Losses: [-1443517, 631156, -1004755, 1581126, -289272, -1098929, 1167557, -806093, 1124485, -1736491, -408383, 604557, -294345, 1327485, 394323, 243585, -617439, -1530577, 1390390, -1130397, 1293604, 641758, -337413, -52031, -937192, 863841, -76245, -100481, -960729, 591856, 54930, 680102, -250254, -840415, 582358, -48628, -135256, 978586, -599210, -442789, 652924, -1005714, 1167373, -234900, -165147, -52275, -302320, 719028, -1825558, 1287083, -48303, 210234, -236414, 585165, -1400632, 839777, 465229, 317811, -760202, -71868, 795457, -182685, -1242836, 1371884, -445193, 10025, -1043998, 1350395, 80538, -1223250, 104148, 843924, -1808664, 1505005, 306402, -143603, -1266937, -162519, 1862002, -52986, -1627245, 616795, 628522, 90895, -224669]\n",
      "\n",
      "Average Change: $-8311.105882352942\n",
      "\n",
      "Greatest Increase in Profits: Aug-16 $1862002\n",
      "\n",
      "Greatest Decrease in Profits: Feb-14 $-1825558\n",
      "\n",
      "\n"
     ]
    }
   ],
   "source": [
    "with open(bank_path) as bank_file:\n",
    "\n",
    "    bank_reader = csv.reader(bank_file, delimiter=\",\")\n",
    "    \n",
    "    \n",
    "    bank_header = next(bank_reader)\n",
    "    \n",
    "    \n",
    "    net_profit = 0\n",
    "    \n",
    "    \n",
    "    first_row = next(bank_reader)\n",
    "    net_profit += int(first_row[1])\n",
    "    previous_net = int(first_row[1])\n",
    "    \n",
    "    net_change_list = []\n",
    "    \n",
    "    \n",
    "    for profit in bank_reader:\n",
    "        net_profit += int(profit[1])\n",
    "        net_change = int(profit[1]) - previous_net\n",
    "        previous_net = int(profit[1])\n",
    "        net_change_list.append(net_change) \n",
    "        \n",
    "        if net_change == 1862002:\n",
    "            increase_month = profit[0]\n",
    "            \n",
    "        if net_change == -1825558:\n",
    "            decrease_month = profit[0]\n",
    "    \n",
    "    \n",
    "    average_change = sum(net_change_list) / len(net_change_list)\n",
    "    \n",
    "    \n",
    "    max_increase = max(net_change_list)\n",
    "    max_decrease = min(net_change_list)    \n",
    "    \n",
    "with open(output_file, \"w\") as txt_file:  \n",
    "    output = (\n",
    "    \"Financial Analysis:\\n\\n\"\n",
    "    \"--------------------------------------------------\\n\\n\"\n",
    "    f\"Total months: {month_sum}\\n\\n\"\n",
    "    f\"Net Profits/Losses: ${net_profit}\\n\\n\"\n",
    "    f\"Changes in Profits/Losses: {net_change_list}\\n\\n\"\n",
    "    f\"Average Change: ${average_change}\\n\\n\"\n",
    "    f\"Greatest Increase in Profits: {increase_month} ${max_increase}\\n\\n\"\n",
    "    f\"Greatest Decrease in Profits: {decrease_month} ${max_decrease}\\n\\n\"\n",
    ")\n",
    "\n",
    "    print(output)\n",
    "    \n",
    "    txt_file.write(output)\n",
    "    "
   ]
  },
  {
   "cell_type": "code",
   "execution_count": null,
   "id": "e6b4a538",
   "metadata": {},
   "outputs": [],
   "source": []
  },
  {
   "cell_type": "code",
   "execution_count": null,
   "id": "ee436ee2",
   "metadata": {},
   "outputs": [],
   "source": []
  }
 ],
 "metadata": {
  "kernelspec": {
   "display_name": "Python 3 (ipykernel)",
   "language": "python",
   "name": "python3"
  },
  "language_info": {
   "codemirror_mode": {
    "name": "ipython",
    "version": 3
   },
   "file_extension": ".py",
   "mimetype": "text/x-python",
   "name": "python",
   "nbconvert_exporter": "python",
   "pygments_lexer": "ipython3",
   "version": "3.11.4"
  }
 },
 "nbformat": 4,
 "nbformat_minor": 5
}
